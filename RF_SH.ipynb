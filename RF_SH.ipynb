{
 "cells": [
  {
   "cell_type": "code",
   "execution_count": 1,
   "metadata": {},
   "outputs": [
    {
     "name": "stderr",
     "output_type": "stream",
     "text": [
      "/home/ubuntu/snap/jupyter/common/lib/python3.7/site-packages/sklearn/utils/deprecation.py:87: FutureWarning: Function get_feature_names is deprecated; get_feature_names is deprecated in 1.0 and will be removed in 1.2. Please use get_feature_names_out instead.\n",
      "  warnings.warn(msg, category=FutureWarning)\n"
     ]
    }
   ],
   "source": [
    "from sklearn.ensemble import RandomForestRegressor\n",
    "from sklearn.metrics import mean_squared_error, mean_absolute_error\n",
    "import numpy as np\n",
    "import pandas as pd\n",
    "from sklearn.model_selection import GridSearchCV, train_test_split\n",
    "from sklearn.preprocessing import OneHotEncoder\n",
    "\n",
    "df = pd.read_csv('230611_GMM.csv')\n",
    "# Convert to datetime object\n",
    "df['deviceTime'] = pd.to_datetime(df['deviceTime'])\n",
    "# Convert to Unix timestamp\n",
    "df['unix_timestamp'] = df['deviceTime'].apply(lambda x: x.timestamp())\n",
    "\n",
    "# initialize OneHotEncoder\n",
    "encoder = OneHotEncoder()\n",
    "\n",
    "# fit and transform the data\n",
    "encoded = encoder.fit_transform(df[['label']]).toarray()\n",
    "\n",
    "# create new columns in the original dataframe with the encoded values\n",
    "encoded_df = pd.DataFrame(encoded, columns=encoder.get_feature_names(['label']))\n",
    "df = pd.concat([df, encoded_df], axis=1)\n",
    "\n",
    "df = df.drop(['date', 'label', 'vehicleId', 'ending', 'starting', 'gnssPDOP', 'gnssHDOP'], axis = 1)\n",
    "\n",
    "from sklearn.preprocessing import MinMaxScaler\n",
    "\n",
    "# Select only the columns that have numeric data types and exclude target\n",
    "numeric_cols = df.select_dtypes(include=['float', 'int']).columns\n",
    "numeric_cols = numeric_cols.drop('fuel_diff')\n",
    "\n",
    "# Apply MinMaxScaler only on the numeric columns\n",
    "scaler = MinMaxScaler()\n",
    "df_scaled = df.copy()\n",
    "df_scaled[numeric_cols] = scaler.fit_transform(df_scaled[numeric_cols])\n",
    "\n",
    "# The object columns remain unchanged\n",
    "\n",
    "# Split the data into training, validation, and test sets\n",
    "val_mask = df_scaled['new_vehicle_id'].isin(['v1', 'v7', 'v10', 'v5', 'v17'])\n",
    "test_mask = df_scaled['new_vehicle_id'].isin(['v3', 'v8', 'v28', 'v32', 'v2'])\n",
    "train_mask = ~df_scaled['new_vehicle_id'].isin(np.concatenate((val_mask, test_mask)))\n",
    "X_train = df_scaled.loc[train_mask, :].drop(columns=['new_vehicle_id', 'deviceTime', 'fuel_diff' ,'fuel_level'])\n",
    "y_train = df_scaled.loc[train_mask, 'fuel_diff']\n",
    "X_val = df_scaled.loc[val_mask, :].drop(columns=['new_vehicle_id', 'deviceTime', 'fuel_diff', 'fuel_level'])\n",
    "y_val = df_scaled.loc[val_mask, 'fuel_diff']\n",
    "X_test = df_scaled.loc[test_mask, :].drop(columns=['new_vehicle_id', 'deviceTime', 'fuel_diff','fuel_level'])\n",
    "y_test = df_scaled.loc[test_mask, 'fuel_diff']"
   ]
  },
  {
   "cell_type": "code",
   "execution_count": null,
   "metadata": {},
   "outputs": [],
   "source": [
    "# Create a Random Forest regressor\n",
    "rf_regressor = RandomForestRegressor(n_estimators=100, random_state=42)\n",
    "\n",
    "# Train the regressor\n",
    "rf_regressor.fit(X_train, y_train)\n",
    "\n",
    "# Make predictions on the val set\n",
    "predictions = rf_regressor.predict(X_val)\n",
    "\n",
    "# Evaluate the mean squared error of the predictions\n",
    "mse = mean_squared_error(y_val, predictions)\n",
    "print(\"Mean Squared Error:\", mse)"
   ]
  },
  {
   "cell_type": "code",
   "execution_count": null,
   "metadata": {},
   "outputs": [],
   "source": [
    "# Create a Random Forest regressor\n",
    "rf_regressor = RandomForestRegressor(random_state=42)\n",
    "\n",
    "# Define the hyperparameter grid to search\n",
    "param_grid = {\n",
    "    'n_estimators': [100, 200, 300],\n",
    "    'max_depth': [None, 5, 10],\n",
    "    'min_samples_split': [2, 5, 10]\n",
    "}\n",
    "\n",
    "# Perform Grid Search with cross-validation\n",
    "grid_search = GridSearchCV(estimator=rf_regressor, param_grid=param_grid, cv=5)\n",
    "grid_search.fit(X_train, y_train)\n",
    "\n",
    "# Print the best hyperparameters and the corresponding score\n",
    "print(\"Best Hyperparameters:\", grid_search.best_params_)\n",
    "print(\"Best Score:\", grid_search.best_score_)"
   ]
  }
 ],
 "metadata": {
  "kernelspec": {
   "display_name": "Python 3",
   "language": "python",
   "name": "python3"
  },
  "language_info": {
   "codemirror_mode": {
    "name": "ipython",
    "version": 3
   },
   "file_extension": ".py",
   "mimetype": "text/x-python",
   "name": "python",
   "nbconvert_exporter": "python",
   "pygments_lexer": "ipython3",
   "version": "3.7.3"
  }
 },
 "nbformat": 4,
 "nbformat_minor": 2
}
